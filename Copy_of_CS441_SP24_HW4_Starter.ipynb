{
  "cells": [
    {
      "cell_type": "markdown",
      "metadata": {
        "id": "view-in-github",
        "colab_type": "text"
      },
      "source": [
        "<a href=\"https://colab.research.google.com/github/BoyuL129/GCP/blob/master/Copy_of_CS441_SP24_HW4_Starter.ipynb\" target=\"_parent\"><img src=\"https://colab.research.google.com/assets/colab-badge.svg\" alt=\"Open In Colab\"/></a>"
      ]
    },
    {
      "cell_type": "markdown",
      "metadata": {
        "id": "Gd7scc-8QJvE"
      },
      "source": [
        "## CS441: Applied ML - HW 4"
      ]
    },
    {
      "cell_type": "markdown",
      "source": [
        "### Part 1: Model Complexity and Tree-based Regressors\n",
        "\n",
        "One measure of a tree’s complexity is the maximum tree depth. Train tree, random forest, and boosted tree regressors on the temperature regression task, using all default parameters except:\n",
        "\n",
        "\n",
        "*   max_depth={2,4,8,16,32}\n",
        "*   random_state=0\n",
        "*   For random forest: max_features=1/3\n",
        "\n",
        "Measure train and val RMSE for each and plot them all on the same plot using the provided plot_depth_error function. You should have six lines (train/val for each model type), each with 5 data points (one for each max depth value).  Include the plot and answer the analysis questions in the report."
      ],
      "metadata": {
        "id": "B3Bmk_x8P4uu"
      }
    },
    {
      "cell_type": "code",
      "source": [
        "import numpy as np\n",
        "from google.colab import drive\n",
        "%matplotlib inline\n",
        "from matplotlib import pyplot as plt\n",
        "\n",
        "# load data (modify to match your data directory or comment)\n",
        "def load_temp_data():\n",
        "  drive.mount('/content/drive')\n",
        "  datadir = \"/content/drive/My Drive/CS441/24SP/hw4/\"\n",
        "  T = np.load(datadir + 'temperature_data.npz')\n",
        "  x_train, y_train, x_val, y_val, x_test, y_test, dates_train, dates_val, dates_test, feature_to_city, feature_to_day = \\\n",
        "  T['x_train'], T['y_train'], T['x_val'], T['y_val'], T['x_test'], T['y_test'], T['dates_train'], T['dates_val'], T['dates_test'], T['feature_to_city'], T['feature_to_day']\n",
        "  return (x_train, y_train, x_val, y_val, x_test, y_test, dates_train, dates_val, dates_test, feature_to_city, feature_to_day)\n",
        "\n",
        "# plot one data point for listed cities and target temperature\n",
        "def plot_temps(x, y, cities, feature_to_city, feature_to_day, target_date):\n",
        "  nc = len(cities)\n",
        "  ndays = 5\n",
        "  xplot = np.array([-5,-4,-3,-2,-1])\n",
        "  yplot = np.zeros((nc,ndays))\n",
        "  for f in np.arange(len(x)):\n",
        "    for c in np.arange(nc):\n",
        "      if cities[c]==feature_to_city[f]:\n",
        "        yplot[feature_to_day[f]+ndays,c] = x[f]\n",
        "  plt.plot(xplot,yplot)\n",
        "  plt.legend(cities)\n",
        "  plt.plot(0, y, 'b*', markersize=10)\n",
        "  plt.title('Predict Temp for Cleveland on ' + target_date)\n",
        "  plt.xlabel('Day')\n",
        "  plt.ylabel('Avg Temp (C)')\n",
        "  plt.show()\n",
        "\n",
        "# load data\n",
        "(x_train, y_train, x_val, y_val, x_test, y_test, dates_train, dates_val, dates_test, feature_to_city, feature_to_day) = load_temp_data()"
      ],
      "metadata": {
        "id": "auYU3RgZQSKv",
        "colab": {
          "base_uri": "https://localhost:8080/"
        },
        "outputId": "4b373662-09a0-41af-b867-b18aeb5c28fc"
      },
      "execution_count": null,
      "outputs": [
        {
          "output_type": "stream",
          "name": "stdout",
          "text": [
            "Mounted at /content/drive\n"
          ]
        }
      ]
    },
    {
      "cell_type": "code",
      "source": [
        "# to plot the errors\n",
        "def plot_depth_error(max_depths, tree_train_err, tree_val_err, rf_train_err, rf_val_err, bt_train_err, bt_val_err):\n",
        "  plt.figure()\n",
        "  plt.semilogx(max_depths, tree_train_err, 'r.--',label='tree train')\n",
        "  plt.semilogx(max_depths, tree_val_err, 'r.-', label='tree val')\n",
        "  plt.semilogx(max_depths, rf_train_err, 'g.--',label='RF train')\n",
        "  plt.semilogx(max_depths, rf_val_err, 'g.-', label='RF val')\n",
        "  plt.semilogx(max_depths, bt_train_err, 'b.--',label='BT train')\n",
        "  plt.semilogx(max_depths, bt_val_err, 'b.-', label='BT val')\n",
        "  plt.ylabel('RMSE Error')\n",
        "  plt.xlabel('Max Tree Depth')\n",
        "  plt.xticks(max_depths, max_depths)\n",
        "  plt.legend()\n",
        "  plt.rcParams.update({'font.size': 20})\n",
        "  plt.show()"
      ],
      "metadata": {
        "id": "S1_zngBjRGji"
      },
      "execution_count": null,
      "outputs": []
    },
    {
      "cell_type": "code",
      "source": [
        "from sklearn import tree\n",
        "from sklearn.tree import DecisionTreeRegressor\n",
        "from sklearn.ensemble import RandomForestRegressor\n",
        "from sklearn.ensemble import GradientBoostingRegressor\n",
        "from sklearn.metrics import mean_squared_error\n",
        "\n",
        "def train(model, x_train, y_train, x_val, y_val):\n",
        "  # train model\n",
        "  model.fit(x_train, y_train)\n",
        "\n",
        "  y_train_pred = model.predict(x_train)\n",
        "  y_val_pred = model.predict(x_val)\n",
        "\n",
        "  rmse_train = np.sqrt(mean_squared_error(y_train, y_train_pred))\n",
        "  rmse_val = np.sqrt(mean_squared_error(y_val, y_val_pred))\n",
        "\n",
        "  return rmse_train, rmse_val\n",
        "\n",
        "max_depth = [2,4,8,16,32]\n",
        "tree_train_errs = []\n",
        "tree_val_errs = []\n",
        "rf_train_errs = []\n",
        "rf_val_errs = []\n",
        "bt_train_errs = []\n",
        "bt_val_errs = []\n",
        "\n",
        "for depth in max_depth:\n",
        "    DT = DecisionTreeRegressor(random_state=0, max_depth=depth)\n",
        "    RF = RandomForestRegressor(random_state=0, max_depth=depth, max_features=1/3)\n",
        "    GB = GradientBoostingRegressor(random_state=0, max_depth=depth)\n",
        "\n",
        "    tree_train_err, tree_val_err = train(DT, x_train, y_train, x_val, y_val)\n",
        "    rf_train_err, rf_val_err = train(RF, x_train, y_train, x_val, y_val)\n",
        "    bt_train_err, bt_val_err = train(GB, x_train, y_train, x_val, y_val)\n",
        "\n",
        "    tree_train_errs.append(tree_train_err)\n",
        "    tree_val_errs.append(tree_val_err)\n",
        "    rf_train_errs.append(rf_train_err)\n",
        "    rf_val_errs.append(rf_val_err)\n",
        "    bt_train_errs.append(bt_train_err)\n",
        "    bt_val_errs.append(bt_val_err)\n",
        "\n",
        "plot_depth_error(max_depth, tree_train_errs, tree_val_errs, rf_train_errs, rf_val_errs, bt_train_errs, bt_val_errs)\n"
      ],
      "metadata": {
        "id": "SAxmPVgcQiUI",
        "colab": {
          "base_uri": "https://localhost:8080/",
          "height": 449
        },
        "outputId": "ff9bb820-8434-46b2-9ca8-eaa67eb6e205"
      },
      "execution_count": null,
      "outputs": [
        {
          "output_type": "display_data",
          "data": {
            "text/plain": [
              "<Figure size 640x480 with 1 Axes>"
            ],
            "image/png": "[encoded data removed]"
          },
          "metadata": {}
        }
      ]
    },
    {
      "cell_type": "markdown",
      "metadata": {
        "id": "QagOldZDQJvG"
      },
      "source": [
        "### Part 2: MLPs with MNIST\n",
        "\n",
        "For this part, you will want to use a GPU to improve runtime. Google Colab provides limited free GPU acceleration to all users. Go to Runtime and change Runtime Type to GPU.  This will reset your compute node, so do it before starting to run other cells.\n",
        "\n",
        "See [Tips](https://docs.google.com/document/d/1_kV9x1LCAFfe6UqY22eqj2eqdCZh72oQDf60zRo2ydM/edit?usp=drive_link) for detailed guidance on this problem.\n",
        "\n",
        "First, use PyTorch to implement a Multilayer Perceptron network with one hidden layer (size 64) with ReLU activation. Set the network to minimize cross-entropy loss, which is the negative log probability of the training labels given the training features. This objective function takes unnormalized logits as inputs.\n",
        "\n",
        "*Do not use MLP in sklearn for this HW - use Torch*."
      ]
    },
    {
      "cell_type": "code",
      "execution_count": 5,
      "metadata": {
        "id": "vO_W4UH7NNBo"
      },
      "outputs": [],
      "source": [
        "# initialization code\n",
        "import numpy as np\n",
        "from keras.datasets import mnist\n",
        "%matplotlib inline\n",
        "from matplotlib import pyplot as plt\n",
        "from scipy import stats\n",
        "import torch\n",
        "import torch.nn as nn\n",
        "import torch.nn.functional as F\n",
        "\n",
        "def load_mnist():\n",
        "  '''\n",
        "  Loads, reshapes, and normalizes the data\n",
        "  '''\n",
        "  (x_train, y_train), (x_test, y_test) = mnist.load_data() # loads MNIST data\n",
        "  x_train = np.reshape(x_train, (len(x_train), 28*28))  # reformat to 768-d vectors\n",
        "  x_test = np.reshape(x_test, (len(x_test), 28*28))\n",
        "  maxval = x_train.max()\n",
        "  x_train = x_train/maxval  # normalize values to range from 0 to 1\n",
        "  x_test = x_test/maxval\n",
        "  return (x_train, y_train), (x_test, y_test)\n",
        "\n",
        "def display_mnist(x, subplot_rows=1, subplot_cols=1):\n",
        "  '''\n",
        "  Displays one or more examples in a row or a grid\n",
        "  '''\n",
        "  if subplot_rows>1 or subplot_cols>1:\n",
        "    fig, ax = plt.subplots(subplot_rows, subplot_cols, figsize=(15,15))\n",
        "    for i in np.arange(len(x)):\n",
        "      ax[i].imshow(np.reshape(x[i], (28,28)), cmap='gray')\n",
        "      ax[i].axis('off')\n",
        "  else:\n",
        "      plt.imshow(np.reshape(x, (28,28)), cmap='gray')\n",
        "      plt.axis('off')\n",
        "  plt.show()"
      ]
    },
    {
      "cell_type": "code",
      "source": [
        "# Sets device to \"cuda\" if a GPU is available  (in Colabs, enable GPU by Edit->Notebook Settings-->Hardware Accelerator=GPU)\n",
        "device = \"cuda\" if torch.cuda.is_available() else 'cpu'\n",
        "print(device) # make sure you're using GPU instance"
      ],
      "metadata": {
        "id": "WVt-ck87nUWQ",
        "colab": {
          "base_uri": "https://localhost:8080/"
        },
        "outputId": "fb8ca56f-1285-4540-dfe1-575d4410cd3e"
      },
      "execution_count": 2,
      "outputs": [
        {
          "output_type": "stream",
          "name": "stdout",
          "text": [
            "cpu\n"
          ]
        }
      ]
    },
    {
      "cell_type": "markdown",
      "source": [
        "#### 2a\n",
        "Using the train/val split provided in the starter code, train your network for 100 epochs with learning rates of 0.01, 0.1, and 1.  Use a batch size of 256 and the SGD optimizer.  After each epoch, record the mean training and validation loss and compute the validation error of the final model. The mean validation loss should be computed after the epoch is complete.  The mean training loss can either be computed after the epoch is complete, or, for efficiency, computed using the losses accumulated during the training of the epoch.  Plot the training and validation losses using the display_error_curves function."
      ],
      "metadata": {
        "id": "R8WbDnbr58LO"
      }
    },
    {
      "cell_type": "code",
      "source": [
        "(x_train, y_train), (x_test, y_test) = load_mnist()\n",
        "\n",
        "# create train/val split\n",
        "ntrain = 50000\n",
        "x_val = x_train[ntrain:].copy()\n",
        "y_val = y_train[ntrain:].copy()\n",
        "x_train = x_train[:ntrain]\n",
        "y_train = y_train[:ntrain]"
      ],
      "metadata": {
        "id": "0dwprF51fii8",
        "colab": {
          "base_uri": "https://localhost:8080/"
        },
        "outputId": "7601321f-07f7-42d9-ec7c-e54255cadada"
      },
      "execution_count": 3,
      "outputs": [
        {
          "output_type": "stream",
          "name": "stdout",
          "text": [
            "Downloading data from https://storage.googleapis.com/tensorflow/tf-keras-datasets/mnist.npz\n",
            "11490434/11490434 [==============================] - 0s 0us/step\n"
          ]
        }
      ]
    },
    {
      "cell_type": "code",
      "source": [
        "def display_error_curves(training_losses, validation_losses):\n",
        "  \"\"\"\n",
        "  Plots the training and validation loss curves\n",
        "  training_losses and validation_losses should be lists or arrays of the same length\n",
        "  \"\"\"\n",
        "  num_epochs = len(training_losses)\n",
        "\n",
        "  plt.plot(range(num_epochs), training_losses, label=\"Training Loss\")\n",
        "  plt.plot(range(num_epochs), validation_losses, label=\"Validation Loss\")\n",
        "\n",
        "  # Add in a title and axes labels\n",
        "  plt.title('Training and Validation Loss')\n",
        "  plt.xlabel('Epochs')\n",
        "  plt.ylabel('Loss')\n",
        "\n",
        "  # Display the plot\n",
        "  plt.legend(loc='best')\n",
        "  plt.show()"
      ],
      "metadata": {
        "id": "xBVdHhhB8UMl"
      },
      "execution_count": 4,
      "outputs": []
    },
    {
      "cell_type": "code",
      "execution_count": null,
      "metadata": {
        "id": "yLhPolEhEdrt"
      },
      "outputs": [],
      "source": [
        "# Define the model\n",
        "class MLP(nn.Module):\n",
        "    def __init__(self, input_size, hidden_size, output_size):\n",
        "        super(MLP, self).__init__()\n",
        "        # Needs code here\n",
        "        self.fc1 = nn.Linear(input_size, hidden_size)\n",
        "        self.fc2 = nn.Linear(hidden_size, output_size)\n",
        "\n",
        "\n",
        "    def forward(self, x):\n",
        "      # Needs code here\n",
        "      # Flatten the input tensor\n",
        "      x = torch.flatten(x, start_dim=1)\n",
        "      # Pass the input through the first layer and then apply ReLU activation\n",
        "      x = F.relu(self.fc1(x))\n",
        "      # Pass through the second layer to get to output\n",
        "      x = self.fc2(x)\n",
        "      return x"
      ]
    },
    {
      "cell_type": "code",
      "source": [
        "# This is a possible function definition for training MLP, but feel free to change it\n",
        "# You may also want to create helper functions, e.g. for computing loss or prediction\n",
        "import torch.optim as optim\n",
        "min_val_loss = []\n",
        "def train_MLP_mnist(train_loader, val_loader, lr=1e-1, num_epochs=100):\n",
        "  '''\n",
        "  Train a MLP\n",
        "  Input: train_loader and val_loader are dataloaders for the training and\n",
        "  val data, respectively. lr is the learning rate, and the network will\n",
        "  be trained for num_epochs epochs.\n",
        "  Output: return a trained MLP\n",
        "  '''\n",
        "  # TODO: fill in all code\n",
        "\n",
        "  input_size = 28*28\n",
        "  hidden_size = 64\n",
        "  output_size = 10\n",
        "\n",
        "  # Instantiate the model\n",
        "  mlp = MLP(input_size, hidden_size, output_size)\n",
        "  train_loss = []\n",
        "  val_loss = []\n",
        "\n",
        "  # Train the model, compute and store train/val loss at each epoch\n",
        "  criterion = nn.CrossEntropyLoss()\n",
        "  optimizer = optim.SGD(mlp.parameters(), lr)\n",
        "  for epoch in range(100):  # loop over the dataset multiple times\n",
        "\n",
        "    train_running_loss = 0.0\n",
        "    for i, data in enumerate(train_loader, 0):\n",
        "        # get the inputs; data is a list of [inputs, labels]\n",
        "        inputs, labels = data\n",
        "\n",
        "        # zero the parameter gradients\n",
        "        optimizer.zero_grad()\n",
        "\n",
        "        # forward + backward + optimize\n",
        "        outputs = mlp(inputs)\n",
        "        loss = criterion(outputs, labels)\n",
        "        loss.backward()\n",
        "        optimizer.step()\n",
        "        train_running_loss += loss.item()\n",
        "\n",
        "    avg_loss = train_running_loss / len(train_loader)\n",
        "    train_loss.append(avg_loss)\n",
        "\n",
        "\n",
        "    val_running_loss = 0\n",
        "    with torch.no_grad():\n",
        "      for data in val_loader:\n",
        "        inputs, labels = data\n",
        "        outputs = mlp(inputs)\n",
        "        loss = criterion(outputs, labels)\n",
        "        val_running_loss += loss.item()\n",
        "\n",
        "    avg_val_loss = val_running_loss / len(val_loader)\n",
        "    val_loss.append(avg_val_loss)\n",
        "\n",
        "  print('Finished Training')\n",
        "  # Display Loss Curves\n",
        "  min_val_loss.append((np.min(val_loss), np.argmin(val_loss)))\n",
        "  display_error_curves(train_loss, val_loss)\n",
        "  return mlp\n",
        "\n",
        "\n",
        "def evaluate_MLP(mlp, loader):\n",
        "  ''' Computes loss and error rate given your mlp model and data loader'''\n",
        "  N = 0\n",
        "  acc = 0\n",
        "  loss = 0\n",
        "  loss_function = torch.nn.CrossEntropyLoss()\n",
        "  with torch.set_grad_enabled(False):\n",
        "    for i, data in enumerate(loader, 0):\n",
        "\n",
        "      # Get inputs\n",
        "      inputs, targets = data\n",
        "      N += len(targets)\n",
        "\n",
        "      # Perform forward pass\n",
        "      outputs = mlp(inputs.to(device))\n",
        "\n",
        "      # Compute sum of correct labels\n",
        "      y_pred = np.argmax(outputs.cpu().numpy(), axis=1)\n",
        "      y_gt = np.argmax(targets.numpy(), axis=1)\n",
        "      acc += np.sum(y_pred==y_gt)\n",
        "\n",
        "      # Compute loss\n",
        "      loss += loss_function(outputs, targets.to(device)).item()*len(targets)\n",
        "\n",
        "  loss /= N\n",
        "  acc /= N\n",
        "\n",
        "  return loss, 1-acc\n"
      ],
      "metadata": {
        "id": "yxyQ6-ZwEdrt"
      },
      "execution_count": null,
      "outputs": []
    },
    {
      "cell_type": "code",
      "source": [
        "# Code for running experiments\n",
        "torch.manual_seed(0) # to avoid randomness, but if you wanted to create an ensemble, you should not use a manual seed\n",
        "\n",
        "# TODO (set up dataloaders, and call training function)\n",
        "from torch.utils.data import DataLoader, TensorDataset\n",
        "\n",
        "x_train_tensor = torch.tensor(x_train, dtype=torch.float32)\n",
        "y_train_tensor = torch.tensor(y_train, dtype=torch.int64)\n",
        "x_val_tensor = torch.tensor(x_val, dtype=torch.float32)\n",
        "y_val_tensor = torch.tensor(y_val, dtype=torch.int64)\n",
        "x_test_tensor = torch.tensor(x_test, dtype=torch.float32)\n",
        "y_test_tensor = torch.tensor(y_test, dtype=torch.int64)\n",
        "\n",
        "# Create datasets\n",
        "train_dataset = TensorDataset(x_train_tensor, y_train_tensor)\n",
        "val_dataset = TensorDataset(x_val_tensor, y_val_tensor)\n",
        "test_dataset = TensorDataset(x_test_tensor, y_test_tensor)\n",
        "\n",
        "# Create data loaders\n",
        "train_loader = DataLoader(train_dataset, batch_size=256, shuffle=True)\n",
        "val_loader = DataLoader(val_dataset, batch_size=256, shuffle=False)\n",
        "test_loader = DataLoader(test_dataset, batch_size=256, shuffle=False)\n",
        "\n",
        "\n",
        "train_MLP_mnist(train_loader=train_loader, val_loader=val_loader, lr=0.01)"
      ],
      "metadata": {
        "id": "v7ElMBso4m9z"
      },
      "execution_count": null,
      "outputs": []
    },
    {
      "cell_type": "code",
      "source": [
        "min_val_loss"
      ],
      "metadata": {
        "colab": {
          "base_uri": "https://localhost:8080/"
        },
        "id": "yuTWqtyLmRRY",
        "outputId": "e5460dd3-54e8-46df-95a3-6eb96d73c19c"
      },
      "execution_count": null,
      "outputs": [
        {
          "output_type": "execute_result",
          "data": {
            "text/plain": [
              "[(0.38017992302775383, 99)]"
            ]
          },
          "metadata": {},
          "execution_count": 38
        }
      ]
    },
    {
      "cell_type": "markdown",
      "source": [
        "#### 2b\n",
        "Based on the loss curves, select the learning rate and number of epochs that minimizes the validation loss.  Retrain that model (if it's not stored), and report training loss, validation loss, training error, validation error, and test error."
      ],
      "metadata": {
        "id": "W5sScSiG6K_0"
      }
    },
    {
      "cell_type": "code",
      "source": [
        "# TO DO (retrain if needed, and evaluate model on train, val, and test sets)"
      ],
      "metadata": {
        "id": "RoeE5BxXAqqi"
      },
      "execution_count": null,
      "outputs": []
    },
    {
      "cell_type": "markdown",
      "source": [
        "## Part 3: Predicting Penguin Species\n",
        "\n",
        "Include all your code for part 3 in this section.  "
      ],
      "metadata": {
        "id": "F49MYTryhPJB"
      }
    },
    {
      "cell_type": "code",
      "source": [
        "import numpy as np\n",
        "from google.colab import drive\n",
        "%matplotlib inline\n",
        "from matplotlib import pyplot as plt\n",
        "import pandas as pd\n",
        "import seaborn as sns\n",
        "#styling preferences for sns\n",
        "sns.set_style('whitegrid')\n",
        "sns.set_context('poster')\n",
        "drive.mount('/content/gdrive/')\n",
        "datadir = \"/content/gdrive/MyDrive/CS441/hw4/\" # TO DO: modify this to your directory\n",
        "df_penguins = pd.read_csv(datadir + 'penguins_size.csv')\n",
        "df_penguins.head(10)\n",
        "\n",
        "# convert features with multiple string values to binary features so they can be used by sklearn\n",
        "def get_penguin_xy(df_penguins):\n",
        "  data = np.array(df_penguins[['island', 'culmen_length_mm', 'culmen_depth_mm', 'flipper_length_mm', 'body_mass_g', 'sex']])\n",
        "  y = df_penguins['species']\n",
        "  ui = np.unique(data[:,0]) # unique island\n",
        "  us = np.unique(data[:,-1]) # unique sex\n",
        "  X = np.zeros((len(y), 10))\n",
        "  for i in range(len(y)):\n",
        "    f = 0\n",
        "    for j in range(len(ui)):\n",
        "      if data[i, f]==ui[j]:\n",
        "        X[i, f+j] = 1\n",
        "    f = f + len(ui)\n",
        "    X[i, f:(f+4)] = data[i, 1:5]\n",
        "    f=f+4\n",
        "    for j in range(len(us)):\n",
        "      if data[i, 5]==us[j]:\n",
        "        X[i, f+j] = 1\n",
        "  feature_names = ['island_biscoe', 'island_dream', 'island_torgersen', 'culmen_length_mm', 'culmen_depth_mm', 'flipper_length_mm', 'body_mass_g', 'sex_female', 'sex_male', 'sex_unknown']\n",
        "  X = pd.DataFrame(X, columns=feature_names)\n",
        "  return(X, y, feature_names, np.unique(y))"
      ],
      "metadata": {
        "id": "u9i_hB-UQWDp"
      },
      "execution_count": null,
      "outputs": []
    },
    {
      "cell_type": "markdown",
      "source": [
        "#### 3a\n",
        "Spend some time to visualize different pairs of features and their relationships to the species.  We’ve done one for you.  Include in your report at least two other visualizations."
      ],
      "metadata": {
        "id": "xeZciiipC3tH"
      }
    },
    {
      "cell_type": "code",
      "source": [
        "def plot_scatter(feature1, feature2):\n",
        "  '''\n",
        "  Provide names of two features to create a scatterplot of them\n",
        "  E.g. plot_scatter('culmen_length_mm', 'culmen_depth_mm')\n",
        "  Possible features: 'culmen_length_mm', 'culmen_depth_mm', 'flipper_length_mm', 'body_mass_g'\n",
        "  '''\n",
        "\n",
        "  palette = [\"red\", \"blue\", \"orange\"]\n",
        "\n",
        "  sns.scatterplot(data=df_penguins, x = feature1, y = feature2,\n",
        "               hue = 'species', palette=palette, alpha=0.8)\n",
        "  # Doc: https://seaborn.pydata.org/generated/seaborn.scatterplot.html\n",
        "\n",
        "  plt.xlabel(feature1, fontsize=14)\n",
        "  plt.ylabel(feature2, fontsize=14)\n",
        "  plt.title(feature1 + ' vs ' + feature2, fontsize=20)\n",
        "  plt.legend(bbox_to_anchor=(1.0, 1.0), loc='upper left')\n",
        "  plt.show()\n",
        "\n",
        "# TO DO call plot_scatter with different feature pairs to create some visualizations\n",
        "\n",
        "plot_scatter('culmen_length_mm', 'culmen_depth_mm')"
      ],
      "metadata": {
        "id": "AGd0yEc_SINQ"
      },
      "execution_count": null,
      "outputs": []
    },
    {
      "cell_type": "markdown",
      "source": [
        "#### 3b\n",
        "Suppose you want to be able to identify the Gentoo species with a simple rule with very high accuracy.  Use a decision tree classifier to figure out such a rule that has only two checks (e.g. “mass greater than 4000 g, and culmen length less than 40 mm is Gentoo; otherwise, not”).   You can use the library DecisionTreeClassifier with either ‘gini’ or ‘entropy’ criterion. Use sklearn.tree.plot_tree with feature_names and class_names arguments to visualize the decision tree.  Include the tree that you used to find the rule in your report and the rule."
      ],
      "metadata": {
        "id": "VwLC5rpmDDlp"
      }
    },
    {
      "cell_type": "code",
      "source": [
        "# TO DO (Train a short tree to identify a good rule, plot the tree, report the rule and its precision/recall in your report)"
      ],
      "metadata": {
        "id": "5BEXQoDjDDPF"
      },
      "execution_count": null,
      "outputs": []
    },
    {
      "cell_type": "markdown",
      "source": [
        "#### 3c\n",
        "\n",
        "Use any method at your disposal to achieve maximum 5-fold cross-validation accuracy on this problem. To keep it simple, we will use sklearn.model_selection to perform the cross-validation for us. Report your model design and 5-fold accuracy.  It is possible to get more than 99% accuracy."
      ],
      "metadata": {
        "id": "9RIRmYltDHZV"
      }
    },
    {
      "cell_type": "code",
      "source": [
        "# design a classification model, import libraries as needed\n",
        "from sklearn.model_selection import cross_val_score\n",
        "\n",
        "X, y, feature_names, class_names = get_penguin_xy(df_penguins)\n",
        "\n",
        "# TO DO -- choose some model and fit the data\n",
        "model = ...\n",
        "\n",
        "scores = cross_val_score(model, np.array(X), np.array(y), cv=5)\n",
        "print('CV Accuracy: {}'.format(scores.mean()))"
      ],
      "metadata": {
        "id": "1qQ5TKOVS6DE"
      },
      "execution_count": null,
      "outputs": []
    },
    {
      "cell_type": "markdown",
      "source": [
        "## Part 4: Stretch Goals\n",
        "Include any new code needed for Part 4 here"
      ],
      "metadata": {
        "id": "3X3j_efPhh6e"
      }
    },
    {
      "cell_type": "code",
      "source": [
        "# TO DO (optional)"
      ],
      "metadata": {
        "id": "b5SnDgjKVdLJ"
      },
      "execution_count": null,
      "outputs": []
    },
    {
      "cell_type": "code",
      "source": [
        "# from https://gist.github.com/jonathanagustin/b67b97ef12c53a8dec27b343dca4abba\n",
        "# install can take a minute\n",
        "\n",
        "import os\n",
        "# @title Convert Notebook to PDF. Save Notebook to given directory\n",
        "NOTEBOOKS_DIR = \"/content/drive/My Drive/CS441/24SP/hw2\" # @param {type:\"string\"}\n",
        "NOTEBOOK_NAME = \"CS441_SP24_HW2_Solution.ipynb\" # @param {type:\"string\"}\n",
        "#------------------------------------------------------------------------------#\n",
        "from google.colab import drive\n",
        "drive.mount(\"/content/drive/\", force_remount=True)\n",
        "NOTEBOOK_PATH = f\"{NOTEBOOKS_DIR}/{NOTEBOOK_NAME}\"\n",
        "assert os.path.exists(NOTEBOOK_PATH), f\"NOTEBOOK NOT FOUND: {NOTEBOOK_PATH}\"\n",
        "!apt install -y texlive-xetex texlive-fonts-recommended texlive-plain-generic > /dev/null 2>&1\n",
        "!jupyter nbconvert \"$NOTEBOOK_PATH\" --to pdf > /dev/null 2>&1\n",
        "NOTEBOOK_PDF = NOTEBOOK_PATH.rsplit('.', 1)[0] + '.pdf'\n",
        "assert os.path.exists(NOTEBOOK_PDF), f\"ERROR MAKING PDF: {NOTEBOOK_PDF}\"\n",
        "print(f\"PDF CREATED: {NOTEBOOK_PDF}\")"
      ],
      "metadata": {
        "id": "DwOqlBwgEJfa"
      },
      "execution_count": null,
      "outputs": []
    }
  ],
  "metadata": {
    "colab": {
      "provenance": [],
      "gpuType": "T4",
      "include_colab_link": true
    },
    "kernelspec": {
      "display_name": "Python 3",
      "name": "python3"
    },
    "language_info": {
      "codemirror_mode": {
        "name": "ipython",
        "version": 3
      },
      "file_extension": ".py",
      "mimetype": "text/x-python",
      "name": "python",
      "nbconvert_exporter": "python",
      "pygments_lexer": "ipython3",
      "version": "3.7.6"
    },
    "accelerator": "GPU"
  },
  "nbformat": 4,
  "nbformat_minor": 0
}